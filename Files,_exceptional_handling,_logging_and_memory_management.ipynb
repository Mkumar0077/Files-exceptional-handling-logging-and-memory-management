{
  "nbformat": 4,
  "nbformat_minor": 0,
  "metadata": {
    "colab": {
      "provenance": []
    },
    "kernelspec": {
      "name": "python3",
      "display_name": "Python 3"
    },
    "language_info": {
      "name": "python"
    }
  },
  "cells": [
    {
      "cell_type": "markdown",
      "source": [
        "# **Files,  exceptional handling, logging and memory, management**"
      ],
      "metadata": {
        "id": "5FY4SAheGFcT"
      }
    },
    {
      "cell_type": "markdown",
      "source": [
        "Q1. **What is the difference between interpreted and compiled languages?**\n",
        " - **Interpreted languages (e.g., Python, JavaScript):**\n",
        "- Programs are executed line-by-line by an interpreter, rather than being translated entirely into machine code beforehand.\n",
        "- Easier to debug, as errors are detected and reported during runtime.\n",
        "- Platform-independent code can often be executed directly without additional steps.\n",
        "- Slower execution compared to compiled languages.\n",
        "\n",
        " - **Compiled languages (e.g., C, C++):**\n",
        "- Programs are translated into machine code by a compiler before execution.\n",
        "- The resulting machine code is platform-specific and can run directly on the hardware without further processing.\n",
        "- Faster execution due to precompiled code.\n",
        "- Requires recompilation for every platform, which can be tedious.\n",
        "\n",
        "Q2. **What is exception handling in Python?**\n",
        " - Exception handling in Python is a mechanism to handle runtime errors in a program, ensuring that the program doesn't crash unexpectedly. It allows developers to deal with errors gracefully by taking corrective actions or providing meaningful messages to users.\n",
        "\n",
        "***Key components of exception handling in Python:***\n",
        "- **try block**:- Contains the code that might raise an exception.\n",
        "- **except block**:- Contains the code to handle the exception if one occurs.\n",
        "- **else block**:- Optional; contains code that runs if no exception occurs in the try block.\n",
        "- **finally block**:- Optional; contains code that will always execute, regardless of whether an exception occurs.\n",
        "\n",
        "Q3. **What is the purpose of the finally block in exception handling?**\n",
        " - The finally block in Python is used to execute code no matter what happens—whether an exception occurs or not. Its main purpose is to ensure that critical actions, like closing files or releasing resources, are always performed. It guarantees cleanup tasks are done and avoids leaving your program in an unpredictable state.\n",
        "\n"
      ],
      "metadata": {
        "id": "Y5nmK_aLGnCl"
      }
    },
    {
      "cell_type": "code",
      "source": [
        "#Example:-\n",
        "try:\n",
        "    file = open(\"example.txt\", \"r\")\n",
        "    # Perform some operations with the file\n",
        "except FileNotFoundError:\n",
        "    print(\"File not found.\")\n",
        "finally:\n",
        "    file.close()  # This will always execute, ensuring the file is closed."
      ],
      "metadata": {
        "id": "_D-cf62zJM6w"
      },
      "execution_count": null,
      "outputs": []
    },
    {
      "cell_type": "markdown",
      "source": [
        "Q4. **What is logging in Python?**\n",
        " - Logging in Python is a way to track events that occur while a program runs. It’s incredibly useful for debugging and monitoring the behavior of software, especially when errors or unexpected issues arise. The logging module in Python provides a flexible framework for recording messages at different levels of importance.\n",
        "\n",
        "**Key aspects of logging:-**\n",
        "1. ***Levels***:- Python logging has five standard levels: DEBUG, INFO, WARNING, ERROR, and CRITICAL.\n",
        "2. ***Configuration***:- You can configure logging to output messages to different destinations (e.g., console, files) using basicConfig().\n",
        "3. ***Custom messages***:- Logging allows you to write meaningful messages, making it easier to trace issues.\n",
        "\n",
        "Q5. **What is the significance of the __del__ method in Python?**\n",
        " - The __del__ method is a special method in Python that is automatically called when an object is about to be destroyed. It is often referred to as the destructor. Its purpose is to clean up resources like closing database connections, releasing memory, or performing final operations before the object is garbage collected.\n",
        "\n",
        "*Key points to note:*\n",
        "- It is not guaranteed to be called immediately when an object goes out of scope, as garbage collection is non-deterministic.\n",
        "- Overuse or misuse of the __del__ method can lead to performance issues or problems with resource management."
      ],
      "metadata": {
        "id": "PoqNzOf_JbKc"
      }
    },
    {
      "cell_type": "code",
      "source": [
        "#Example:-\n",
        "class MyClass:\n",
        "    def __del__(self):\n",
        "        print(\"Destructor called, object deleted.\")\n",
        "\n",
        "obj = MyClass()\n",
        "del obj  # Explicitly deleting the object\n"
      ],
      "metadata": {
        "colab": {
          "base_uri": "https://localhost:8080/"
        },
        "id": "LFbjTipYK8o6",
        "outputId": "d9f70209-8c07-4f68-f3b2-f863dd89b3c6"
      },
      "execution_count": null,
      "outputs": [
        {
          "output_type": "stream",
          "name": "stdout",
          "text": [
            "Destructor called, object deleted.\n"
          ]
        }
      ]
    },
    {
      "cell_type": "markdown",
      "source": [
        "Q6. **What is the difference between import and from ... import in Python?**\n",
        " - Both are used to include external modules or specific components from a module into your program, but they differ in usage:\n",
        "\n",
        "1. **import**:-\n",
        "   - Imports the entire module, making all functions, classes, and objects within the module available.\n",
        "   - Access the components by prefixing them with the module name."
      ],
      "metadata": {
        "id": "1xQ11iJgLNmM"
      }
    },
    {
      "cell_type": "code",
      "execution_count": null,
      "metadata": {
        "colab": {
          "base_uri": "https://localhost:8080/"
        },
        "id": "glPrSWgpF1_-",
        "outputId": "cdeb740a-fdd7-4a32-f294-59d4b3e714ac"
      },
      "outputs": [
        {
          "output_type": "stream",
          "name": "stdout",
          "text": [
            "4.0\n"
          ]
        }
      ],
      "source": [
        " #Example:-\n",
        "import math\n",
        "print(math.sqrt(16))  # Accessing the sqrt function with math prefix\n",
        "\n"
      ]
    },
    {
      "cell_type": "markdown",
      "source": [
        "2. **from ... import**:-\n",
        "   - Imports specific components from a module, allowing direct access to them without the module name prefix.\n",
        "   - Useful for cleaner code if you only need a few components"
      ],
      "metadata": {
        "id": "FQv6vwG4MlE9"
      }
    },
    {
      "cell_type": "code",
      "source": [
        "#Example:-\n",
        "from math import sqrt\n",
        "print(sqrt(16))  # Directly accessing the sqrt function"
      ],
      "metadata": {
        "colab": {
          "base_uri": "https://localhost:8080/"
        },
        "id": "VHRC3eAUMuP7",
        "outputId": "40ad62dc-e862-468f-f6bc-1f8b199d9b78"
      },
      "execution_count": null,
      "outputs": [
        {
          "output_type": "stream",
          "name": "stdout",
          "text": [
            "4.0\n"
          ]
        }
      ]
    },
    {
      "cell_type": "markdown",
      "source": [
        "Q7. **How can you handle multiple exceptions in Python?**\n",
        " - You can handle multiple exceptions in Python using:\n",
        "1. **Multiple except blocks**:- You can specify different except blocks for handling various exception types.\n",
        "2. **Single except block with a tuple of exceptions**:- You can group multiple exceptions together using a tuple."
      ],
      "metadata": {
        "id": "If1JhTqzM7-9"
      }
    },
    {
      "cell_type": "code",
      "source": [
        "#Example:- 1. Using *multiple except blocks*>>\n",
        "try:\n",
        "       value = int(\"abc\")  # This will raise ValueError\n",
        "except ValueError:\n",
        "       print(\"ValueError caught!\")\n",
        "except TypeError:\n",
        "       print(\"TypeError caught!\")"
      ],
      "metadata": {
        "colab": {
          "base_uri": "https://localhost:8080/"
        },
        "id": "CmeM7iKZNodB",
        "outputId": "7c4d9c93-75fa-4296-cc65-0d0b2ff0621b"
      },
      "execution_count": null,
      "outputs": [
        {
          "output_type": "stream",
          "name": "stdout",
          "text": [
            "ValueError caught!\n"
          ]
        }
      ]
    },
    {
      "cell_type": "code",
      "source": [
        "#Example:- 2. Using *a tuple of exceptions*:\n",
        "try:\n",
        "     value = 10 / 0  # This will raise ZeroDivisionError\n",
        "except (ValueError, ZeroDivisionError):\n",
        "       print(\"Either ValueError or ZeroDivisionError caught!\")\n",
        "\n",
        "#Python's flexibility allows you to handle exceptions based on your application's needs."
      ],
      "metadata": {
        "colab": {
          "base_uri": "https://localhost:8080/"
        },
        "id": "aNceZyFNOWYl",
        "outputId": "3a9c0def-83fb-431e-8bc7-637a3bc2d5f6"
      },
      "execution_count": null,
      "outputs": [
        {
          "output_type": "stream",
          "name": "stdout",
          "text": [
            "Either ValueError or ZeroDivisionError caught!\n"
          ]
        }
      ]
    },
    {
      "cell_type": "markdown",
      "source": [
        "Q8. **What is the purpose of the with statement when handling files in Python?**\n",
        " - The with statement is used to manage resources like files more efficiently. When handling files in Python, it ensures that the file is properly closed after its block of code is executed—whether the code ran successfully or raised an exception. It eliminates the need to explicitly call close() for a file and makes the code cleaner and more reliable.\n"
      ],
      "metadata": {
        "id": "iUBhn21ENnay"
      }
    },
    {
      "cell_type": "code",
      "source": [
        "#Example:-\n",
        "with open(\"example.txt\", \"r\") as file:\n",
        "    content = file.read()\n",
        "    print(content)\n",
        "# No need to call file.close()—the `with` statement handles it automatically.\n"
      ],
      "metadata": {
        "colab": {
          "base_uri": "https://localhost:8080/"
        },
        "id": "lU43OCqwPMXG",
        "outputId": "86bb22e4-85c8-4768-d434-b8a764a92cea"
      },
      "execution_count": null,
      "outputs": [
        {
          "output_type": "stream",
          "name": "stdout",
          "text": [
            "\n"
          ]
        }
      ]
    },
    {
      "cell_type": "markdown",
      "source": [
        "This approach reduces the risk of resource leaks, such as files remaining open or locked unintentionally"
      ],
      "metadata": {
        "id": "b0QcFuAFPg0X"
      }
    },
    {
      "cell_type": "markdown",
      "source": [
        "Q9. **What is the difference between multithreading and multiprocessing?**\n",
        " - Multithreading and multiprocessing are two methods of achieving parallelism in Python, but they work differently:\n",
        "\n",
        "1. **Multithreading**:-\n",
        "   - Involves multiple threads running within a single process.\n",
        "   - Threads share the same memory space, which can make communication between them easier but may lead to issues like race conditions.\n",
        "   - Useful for I/O-bound tasks (e.g., file operations, network calls) where tasks spend more time waiting for resources.\n",
        "   - Limited by Python's Global Interpreter Lock (GIL), so it doesn't effectively utilize multiple CPU cores for CPU-bound tasks."
      ],
      "metadata": {
        "id": "JHTMzOsLPmjb"
      }
    },
    {
      "cell_type": "code",
      "source": [
        "#Example:-\n",
        "import threading\n",
        "\n",
        "def print_numbers():\n",
        "       for i in range(5):\n",
        "           print(i)\n",
        "\n",
        "thread = threading.Thread(target=print_numbers)\n",
        "thread.start()"
      ],
      "metadata": {
        "id": "rmr6ks62MP2t",
        "colab": {
          "base_uri": "https://localhost:8080/"
        },
        "outputId": "14b50b8c-1057-4ffe-ef4f-e4c5e5984293"
      },
      "execution_count": null,
      "outputs": [
        {
          "output_type": "stream",
          "name": "stdout",
          "text": [
            "0\n",
            "1\n",
            "2\n",
            "3\n",
            "4\n"
          ]
        }
      ]
    },
    {
      "cell_type": "markdown",
      "source": [
        "2. **Multiprocessing**:-\n",
        "   - Involves multiple processes, each with its own memory space.\n",
        "   - Processes don't share memory directly, making communication more complex (handled via mechanisms like pipes or shared memory).\n",
        "   - Ideal for CPU-bound tasks where heavy computation is needed, as each process can run on a separate CPU core.\n",
        "   - Avoids the GIL and allows true parallelism."
      ],
      "metadata": {
        "id": "w6Mk3yYaPYVE"
      }
    },
    {
      "cell_type": "code",
      "source": [
        " #Example:-\n",
        "from multiprocessing import Process\n",
        "\n",
        "def print_numbers():\n",
        "       for i in range(5):\n",
        "           print(i)\n",
        "\n",
        "process = Process(target=print_numbers)\n",
        "process.start()"
      ],
      "metadata": {
        "colab": {
          "base_uri": "https://localhost:8080/"
        },
        "id": "Pz8Mjat4PWhh",
        "outputId": "3d2b2646-c6e8-4bc0-e140-0c71fe33dbe7"
      },
      "execution_count": null,
      "outputs": [
        {
          "output_type": "stream",
          "name": "stdout",
          "text": [
            "0"
          ]
        }
      ]
    },
    {
      "cell_type": "markdown",
      "source": [
        "Q10. **What are the advantages of using logging in a program?**\n",
        "  - Logging offers several benefits that make it essential for robust programming:\n",
        "\n",
        "1. **Debugging**:- Logs help identify the root causes of issues in your code by providing detailed information about errors and program flow.\n",
        "2. **Monitoring**:- Logs allow you to monitor the behavior of your program, track events, and gain insights into its performance.\n",
        "3. **Audit Trail**:- Logs can serve as a record of activities for auditing purposes, especially in sensitive applications.\n",
        "4. **Error Tracking**:- Logs provide a consistent way to capture and track errors, making it easier to resolve them.\n",
        "5. **Scalability**:- Logs can be configured to provide different levels of detail (INFO, ERROR, DEBUG), adapting to the needs of different stages of development and production.\n",
        "\n",
        "Q11. **What is memory management in Python?**\n",
        "  - Memory management in Python refers to how Python handles the allocation, use, and deallocation of memory during program execution. Python's memory management is automatic and is handled by the Python Memory Manager.\n",
        "\n",
        "***Key aspects include:-***\n",
        "\n",
        "1. **Reference Counting**:-\n",
        "   - Python keeps track of the number of references to an object using reference counting.\n",
        "   - When the reference count of an object drops to zero, the memory occupied by the object is deallocated.\n",
        "\n",
        "2. **Garbage Collection**:-\n",
        "   - Python uses a garbage collector to identify and remove unused objects to free up memory.\n",
        "   - It works alongside reference counting to handle circular references (objects referencing each other, preventing their deallocation).\n",
        "\n",
        "3. **Dynamic Memory Allocation**:-\n",
        "   - Memory is dynamically allocated for objects during runtime as needed, making Python more flexible and efficient.\n",
        "\n",
        "4. **Memory Optimization**:-\n",
        "   - Python uses techniques like memory pooling and caching to optimize the use of memory for frequently created objects.\n",
        "\n",
        "Q12. **What are the basic steps involved in exception handling in Python?**\n",
        "  - The steps involved in handling exceptions in Python are:\n",
        "\n",
        "1. ***Identify Code That May Raise an Exception***:- Use a try block to wrap the code that might result in an error.\n",
        "\n",
        "2. ***Handle the Exception***:- Use one or more except blocks to specify the type of exceptions you want to catch and how you’ll handle them.\n",
        "\n",
        "3. ***Execute Cleanup (Optional)***:- Use the finally block if there are actions, like releasing resources, that you want to execute regardless of whether an exception occurred or not.\n",
        "\n",
        "4. ***Optional Else Block***:- The else block executes if no exception occurs in the try block.\n",
        "\n"
      ],
      "metadata": {
        "id": "0dUeOrk9QOJC"
      }
    },
    {
      "cell_type": "code",
      "source": [
        "#example:-\n",
        "try:\n",
        "    num = int(input(\"Enter a number: \"))\n",
        "    result = 10 / num\n",
        "except ValueError:\n",
        "    print(\"Please enter a valid number.\")\n",
        "except ZeroDivisionError:\n",
        "    print(\"Cannot divide by zero.\")\n",
        "else:\n",
        "    print(\"Result:\", result)\n",
        "finally:\n",
        "    print(\"Execution complete.\")"
      ],
      "metadata": {
        "colab": {
          "base_uri": "https://localhost:8080/"
        },
        "id": "MQ5_mrVyQM9t",
        "outputId": "d6eeaa53-17ac-4b5b-b6a7-d1528329d8d9"
      },
      "execution_count": null,
      "outputs": [
        {
          "output_type": "stream",
          "name": "stdout",
          "text": [
            "Enter a number: 12\n",
            "Result: 0.8333333333333334\n",
            "Execution complete.\n"
          ]
        }
      ]
    },
    {
      "cell_type": "markdown",
      "source": [
        "Q13. **Why is memory management important in Python?**\n",
        "  - Memory management is critical for ensuring efficient use of system resources and maintaining program stability. Without proper memory management, programs could suffer from memory leaks, excessive consumption of resources, or crashes. In Python, automated memory management simplifies the process for developers, but understanding its importance is vital:\n",
        "\n",
        "1. ***Efficiency***:- Prevents programs from using unnecessary memory, improving performance.\n",
        "2. ***Resource Cleanup***:- Ensures that unused objects are deallocated, reducing memory overhead.\n",
        "3. ***Avoiding Leaks***:- Proper management prevents memory leaks that can slow down or crash programs.\n",
        "4. ***Scalability***:- Optimal memory use allows programs to handle larger datasets and processes effectively.\n",
        "\n",
        "Q14. **What is the role of try and except in exception handling?**\n",
        "  - The try and except keywords form the foundation of exception handling in Python. They allow you to manage runtime errors gracefully, ensuring that your program doesn't abruptly terminate when an error occurs.\n",
        "\n",
        "1. **try Block**:-\n",
        "   - Contains the code that might raise an exception.\n",
        "   - If an error occurs, the interpreter looks for a corresponding except block.\n",
        "\n",
        "2. **except Block**:-\n",
        "   - Handles the exception.\n",
        "   - You can specify the type of exception to catch or use a generic except to handle all exceptions.\n"
      ],
      "metadata": {
        "id": "e1AlQtzhUEKr"
      }
    },
    {
      "cell_type": "code",
      "source": [
        "try:\n",
        "    number = int(input(\"Enter a number: \"))\n",
        "    result = 10 / number\n",
        "except ZeroDivisionError:\n",
        "    print(\"You can't divide by zero!\")\n",
        "except ValueError:\n",
        "    print(\"Please enter a valid number.\")\n"
      ],
      "metadata": {
        "colab": {
          "base_uri": "https://localhost:8080/"
        },
        "id": "Kg2yWKnUT_rM",
        "outputId": "93cdb89e-333c-4d9a-acde-9624726e4a4a"
      },
      "execution_count": null,
      "outputs": [
        {
          "name": "stdout",
          "output_type": "stream",
          "text": [
            "Enter a number: 16\n"
          ]
        }
      ]
    },
    {
      "cell_type": "markdown",
      "source": [
        "Q15. **How does Python's garbage collection system work?**\n",
        "  - Python's garbage collection system is responsible for automatically managing memory and reclaiming it when objects are no longer in use. Here's how it works:\n",
        "\n",
        "1. **Reference Counting**:-\n",
        "   - Every object in Python has a reference count, which tracks how many references point to that object.\n",
        "   - When the reference count drops to zero (e.g., all references to the object are deleted or reassigned), the memory occupied by the object is deallocated.\n",
        "\n",
        "2. **Garbage Collector**:-\n",
        "   - Python's garbage collector is part of its memory management system and helps clean up objects that cannot be deallocated by reference counting alone. For example, it detects and handles *circular references* (objects referencing each other in a loop, preventing their reference counts from dropping to zero).\n",
        "\n",
        "3. **Generational Collection**:-\n",
        "   - Python's garbage collector divides objects into three \"generations\" based on their lifespan.\n",
        "   - Younger objects are collected more frequently, while older objects are collected less often, as they are more likely to still be in use.\n",
        "\n",
        "4. **Manual Invocation**:-\n",
        "   - The garbage collector can be manually invoked using the gc module if needed. For example:-"
      ],
      "metadata": {
        "id": "l4H5J53JVTYc"
      }
    },
    {
      "cell_type": "code",
      "source": [
        "import gc\n",
        "gc.collect()  # Triggers garbage collection manually\n"
      ],
      "metadata": {
        "id": "mn8HCqQ4WBX0"
      },
      "execution_count": null,
      "outputs": []
    },
    {
      "cell_type": "markdown",
      "source": [
        "Q16. **What is the purpose of the else block in exception handling?**\n",
        "  - The else block in exception handling is executed only if the code inside the try block runs successfully without raising any exceptions. Its purpose is to separate the code that should run when no exceptions occur, making the flow of logic more clear and organized."
      ],
      "metadata": {
        "id": "wXqxnNJGWLFB"
      }
    },
    {
      "cell_type": "code",
      "source": [
        "#example:-\n",
        "try:\n",
        "    num = int(input(\"Enter a number: \"))\n",
        "    result = 10 / num\n",
        "except ZeroDivisionError:\n",
        "    print(\"Cannot divide by zero!\")\n",
        "except ValueError:\n",
        "    print(\"Please enter a valid number.\")\n",
        "else:\n",
        "    print(\"The result is:\", result)  # Executes only if no exception occurs in the try block\n",
        "\n",
        "\n",
        "#In the example above, the else block will run only if the try block is executed without triggering any except block"
      ],
      "metadata": {
        "colab": {
          "base_uri": "https://localhost:8080/"
        },
        "id": "GjSH4kheVKhH",
        "outputId": "10e7fa0e-0bf3-4fde-e56f-fa4ff4f6d357"
      },
      "execution_count": null,
      "outputs": [
        {
          "output_type": "stream",
          "name": "stdout",
          "text": [
            "Enter a number: 13\n",
            "The result is: 0.7692307692307693\n"
          ]
        }
      ]
    },
    {
      "cell_type": "markdown",
      "source": [
        "Q17. **What are the common logging levels in Python?**\n",
        "  - In Python, the logging module provides several levels of logging to indicate the severity of events. These levels, in increasing order of severity, are:\n",
        "\n",
        "1. **DEBUG**:-\n",
        "   - Used for detailed diagnostic information.\n",
        "   - Typically useful during development and debugging.\n",
        "   - Example: \"Entered function calculate_sum with arguments x=5, y=10.\"\n",
        "\n",
        "2. **INFO**:-\n",
        "   - For general information about the program's normal operation.\n",
        "   - Example: \"Service started successfully.\"\n",
        "\n",
        "3. **WARNING**:-\n",
        "   - Indicates potential issues that don't stop the program but might require attention.\n",
        "   - Example: \"Disk space is running low.\"\n",
        "\n",
        "4. **ERROR**:-\n",
        "   - For serious problems that prevent parts of the program from functioning.\n",
        "   - Example: \"File not found.\"\n",
        "\n",
        "5. **CRITICAL**:-\n",
        "   - Used for very severe errors that likely result in the program's termination.\n",
        "   - Example: \"Out of memory. Shutting down.\"\n",
        "\n",
        "Q18.  **What is the difference between os.fork() and multiprocessing in Python?**\n",
        "  -\n",
        "1. **os.fork()**:-\n",
        "   - Creates a new process by duplicating the current process (parent).\n",
        "   - Available only on Unix-like systems (Linux, macOS) and not supported on Windows.\n",
        "   - Requires manual management of processes, which can be error-prone.\n",
        "   - Simpler and lower-level, allowing more direct control over process creation.\n"
      ],
      "metadata": {
        "id": "QkjkyuwPXjiV"
      }
    },
    {
      "cell_type": "code",
      "source": [
        "#Example:-\n",
        "import os\n",
        "\n",
        "pid = os.fork()\n",
        "if pid == 0:\n",
        "       print(\"This is the child process.\")\n",
        "else:\n",
        "       print(\"This is the parent process.\")"
      ],
      "metadata": {
        "colab": {
          "base_uri": "https://localhost:8080/"
        },
        "id": "1wkC4S3jXgfH",
        "outputId": "88de903e-11e2-46e9-8c6d-21238eca91aa"
      },
      "execution_count": null,
      "outputs": [
        {
          "output_type": "stream",
          "name": "stdout",
          "text": [
            "This is the parent process.\n",
            "This is the child process.\n"
          ]
        }
      ]
    },
    {
      "cell_type": "markdown",
      "source": [
        "2. **Multiprocessing Module**:8\n",
        "   - A higher-level abstraction for working with processes in Python.\n",
        "   - Supports creating processes on all platforms, including Windows.\n",
        "   - Provides tools like Process class and pools for parallelism.\n",
        "   - Handles inter-process communication and synchronization more easily."
      ],
      "metadata": {
        "id": "GUA6rWHmY8aw"
      }
    },
    {
      "cell_type": "code",
      "source": [
        "#Example:-\n",
        "from multiprocessing import Process\n",
        "def print_message():\n",
        "       print(\"Hello from a new process!\")\n",
        "\n",
        "process = Process(target=print_message)\n",
        "process.start()\n",
        "process.join()"
      ],
      "metadata": {
        "id": "2ix2DKsJY6lM",
        "colab": {
          "base_uri": "https://localhost:8080/"
        },
        "outputId": "95bb7285-a7dd-4542-df5e-9e97fdb21184"
      },
      "execution_count": null,
      "outputs": [
        {
          "output_type": "stream",
          "name": "stdout",
          "text": [
            "Hello from a new process!\n"
          ]
        }
      ]
    },
    {
      "cell_type": "markdown",
      "source": [
        "Q19. **What is the importance of closing a file in Python?**\n",
        "  - Closing a file in Python is crucial for several reasons:\n",
        "\n",
        "1. **Resource Management**:- When a file is open, system resources like memory and file descriptors are used. Closing the file ensures these resources are released.\n",
        "\n",
        "2. **Data Integrity**:- If you've written data to a file, the changes may not be saved until the file is properly closed. Closing ensures all buffers are flushed, and the data is safely written.\n",
        "\n",
        "3. **Avoiding Errors**:- Failing to close files can lead to issues like running out of file descriptors if many files remain open at once, which could crash your program or system.\n",
        "\n",
        "4. **Best Practice**:- It’s good programming etiquette to close files explicitly, even though Python automatically closes them when a program exits."
      ],
      "metadata": {
        "id": "dreGJEBbZfpQ"
      }
    },
    {
      "cell_type": "code",
      "source": [
        "#Example:-\n",
        "file = open(\"example.txt\", \"w\")\n",
        "file.write(\"Hello, World!\")\n",
        "file.close()  # Ensures the file is properly closed after writing.\n",
        "\n"
      ],
      "metadata": {
        "id": "knX2zjjkZYfz"
      },
      "execution_count": null,
      "outputs": []
    },
    {
      "cell_type": "code",
      "source": [
        "#Alternatively, using a *context manager* (with statement) ensures automatic closure:\n",
        "with open(\"example.txt\", \"w\") as file:\n",
        "    file.write(\"Hello, World!\")\n",
        "# File is automatically closed here."
      ],
      "metadata": {
        "id": "Oy9o_mnEaqX3"
      },
      "execution_count": null,
      "outputs": []
    },
    {
      "cell_type": "markdown",
      "source": [
        "Q20. **What is the difference between file.read() and file.readline() in Python?**\n",
        "  - 1. **file.read()**:-\n",
        "   - Reads the entire file content or the specified number of characters at once.\n",
        "   - Returns a single string containing all the data.\n",
        "   - Useful when you need all the content at once and the file size is manageable."
      ],
      "metadata": {
        "id": "mWLmKq-9a2UC"
      }
    },
    {
      "cell_type": "code",
      "source": [
        "#Example:-\n",
        "with open(\"example.txt\", \"r\") as file:\n",
        "         content = file.read()\n",
        "         print(content)  # Displays the entire file\n"
      ],
      "metadata": {
        "id": "4DN-Q4SCbQPd",
        "colab": {
          "base_uri": "https://localhost:8080/"
        },
        "outputId": "662da7ca-519a-4d59-f011-1f69512a031d"
      },
      "execution_count": null,
      "outputs": [
        {
          "output_type": "stream",
          "name": "stdout",
          "text": [
            "Hello, World!\n"
          ]
        }
      ]
    },
    {
      "cell_type": "markdown",
      "source": [
        "\n",
        "2. **file.readline()**:-\n",
        "   - Reads only a single line of the file at a time.\n",
        "   - Returns the line as a string, including the newline character at the end.\n",
        "   - Useful for processing files line by line, especially large files."
      ],
      "metadata": {
        "id": "Y1oKmrK7bcwg"
      }
    },
    {
      "cell_type": "code",
      "source": [
        " #Example:-\n",
        "with open(\"example.txt\", \"r\") as file:\n",
        "         line = file.readline()\n",
        "         print(line)  # Displays the first line of the file\n"
      ],
      "metadata": {
        "id": "1vKI69eBbb4q",
        "colab": {
          "base_uri": "https://localhost:8080/"
        },
        "outputId": "171fde55-98ce-48fb-c577-1fb304525f29"
      },
      "execution_count": null,
      "outputs": [
        {
          "output_type": "stream",
          "name": "stdout",
          "text": [
            "Hello, World!\n"
          ]
        }
      ]
    },
    {
      "cell_type": "markdown",
      "source": [
        "Q21. **What is the logging module in Python used for?**\n",
        "  - The logging module in Python is used for tracking events that occur while a program is running. It provides a robust and flexible framework for generating log messages, which are helpful for:-\n",
        "\n",
        "1. **Debugging**:- Identifying and fixing bugs in the code.\n",
        "2. **Error Reporting**:- Highlighting when and where issues occur.\n",
        "3. **Monitoring**:- Keeping track of how a program is running in production.\n",
        "4. **Audit Trails**:- Maintaining a history of significant activities for security or troubleshooting purposes.\n",
        "\n",
        "***The logging module allows developers to:-***\n",
        "- Record messages at different severity levels, such as DEBUG, INFO, WARNING, ERROR, and CRITICAL.\n",
        "- Write logs to various destinations, including the console, files, or remote servers.\n",
        "- Customize log formatting for better clarity.\n",
        "\n",
        "Q22. **What is the os module in Python used for in file handling?**\n",
        "  - The os module in Python provides a way to interact with the operating system. It offers many utilities for file handling tasks, such as creating, removing, renaming, or modifying files and directories, as well as navigating the file system.\n",
        "\n",
        "Here are some key functions of the os module in file handling:-\n",
        "\n",
        "1. **Creating Directories**:-\n",
        "   - os.mkdir(\"folder_name\"): Creates a new directory.\n",
        "   - os.makedirs(\"parent/child\"): Creates nested directories.\n",
        "\n",
        "2. **Removing Files and Directories**:8\n",
        "   - os.remove(\"file_name\"): Deletes a file.\n",
        "   - os.rmdir(\"folder_name\"): Deletes an empty directory.\n",
        "   - os.removedirs(\"parent/child\"): Deletes nested directories.\n",
        "\n",
        "3. **Renaming Files or Directories**:-\n",
        "   - os.rename(\"old_name\", \"new_name\"): Renames a file or folder.\n",
        "\n",
        "4. **File Path Manipulation**:-\n",
        "   - os.path.join(\"folder\", \"file.txt\"): Constructs a path.\n",
        "   - os.path.exists(\"file.txt\"): Checks if a path exists.\n",
        "   - os.path.getsize(\"file.txt\"): Retrieves the size of a file.\n",
        "\n",
        "5. **Navigating the File System**:-\n",
        "   - os.chdir(\"folder_name\"): Changes the current working directory.\n",
        "   - os.getcwd(): Retrieves the current working directory.\n",
        "\n",
        "Q23. **What are the challenges associated with memory management in Python?**\n",
        "  - Python's memory management system simplifies resource allocation and cleanup, but it comes with its own set of challenges:\n",
        "\n",
        "1. **Circular References**:-\n",
        "   - Objects that reference each other prevent their reference counts from dropping to zero, which can block garbage collection.\n",
        "   - Python's garbage collector can handle circular references, but it adds complexity.\n",
        "\n",
        "2. **Memory Leaks**:-\n",
        "   - Improper coding practices can lead to memory leaks, where objects remain allocated unnecessarily.\n",
        "   - For instance, global variables or objects stored in data structures can unintentionally hold references.\n",
        "\n",
        "3. **Non-Deterministic Garbage Collection**:-\n",
        "   - Garbage collection timing is not guaranteed, so cleanup might not occur promptly.\n",
        "   - This is especially relevant in memory-intensive applications.\n",
        "\n",
        "4. **Optimization Overhead**:-\n",
        "   - Python uses techniques like memory pooling and caching to improve efficiency, but these can result in higher memory usage in some scenarios.\n",
        "\n",
        "5. **Handling Large Data**:-\n",
        "   - Applications processing large datasets need to carefully manage memory to avoid crashes or slowdowns.\n",
        "\n",
        "Q24. **How do you raise an exception manually in Python?**\n",
        "  - In Python, you can manually raise an exception using the raise keyword. This allows you to create and trigger exceptions intentionally, often to indicate an error condition in your code.\n",
        "\n",
        "**Syntax**:-\n",
        "\n",
        "raise ExceptionType(\"Error message\")"
      ],
      "metadata": {
        "id": "ETA5PlayMLeR"
      }
    },
    {
      "cell_type": "code",
      "source": [
        "#Example:-\n",
        "def check_age(age):\n",
        "    if age < 0:\n",
        "        raise ValueError(\"Age cannot be negative!\")\n",
        "    else:\n",
        "        print(\"Age is valid.\")\n",
        "\n",
        "try:\n",
        "    check_age(-5)  # This will raise an exception\n",
        "except ValueError as e:\n",
        "    print(\"Caught an exception:\", e)\n",
        "\n",
        "\n",
        "#In this example, a ValueError is raised if the age is negative, and the except block catches it."
      ],
      "metadata": {
        "id": "OuLkbxqIbtXp",
        "colab": {
          "base_uri": "https://localhost:8080/"
        },
        "outputId": "905d2bf6-f39e-4fb2-f11e-b3f935019ade"
      },
      "execution_count": null,
      "outputs": [
        {
          "output_type": "stream",
          "name": "stdout",
          "text": [
            "Caught an exception: Age cannot be negative!\n"
          ]
        }
      ]
    },
    {
      "cell_type": "markdown",
      "source": [
        "Q25. **Why is it important to use multithreading in certain applications?**\n",
        "  - Multithreading is particularly useful in applications where tasks can run concurrently, leading to better resource utilization and efficiency. Here are some reasons why multithreading is important:\n",
        "\n",
        "1. **Improved Performance**:-\n",
        "   - Multithreading allows multiple threads to execute simultaneously, making programs faster for tasks like I/O operations.\n",
        "\n",
        "2. **Concurrency**:-\n",
        "   - It enables applications to perform multiple tasks at the same time. For instance, downloading files while updating a user interface.\n",
        "\n",
        "3. **Responsive Applications**:-\n",
        "   - Multithreading ensures that applications like GUIs remain responsive by running background tasks in separate threads.\n",
        "\n",
        "4. **Efficient Resource Utilization**:-\n",
        "   - It maximizes CPU and I/O resource usage by overlapping waiting periods with other tasks.\n",
        "\n",
        "However, multithreading in Python is limited by the Global Interpreter Lock (GIL), which restricts threads from running simultaneously for CPU-bound tasks. For such tasks, multiprocessing is often a better alternative.\n"
      ],
      "metadata": {
        "id": "LeLelwGKQSe2"
      }
    },
    {
      "cell_type": "markdown",
      "source": [
        "# **Practical Questions**\n",
        "\n",
        "Q1. **How can you open a file for writing in Python and write a string to it?**\n"
      ],
      "metadata": {
        "id": "dUVmgi-ZQw5B"
      }
    },
    {
      "cell_type": "code",
      "source": [
        "# Open the file in write mode ('w')\n",
        "file = open(\"example.txt\", \"w\")\n",
        "\n",
        "# Write a string to the file\n",
        "file.write(\"Hello, this is a test string!\")\n",
        "\n",
        "# Close the file to save changes\n",
        "file.close()"
      ],
      "metadata": {
        "id": "VFAtMqAYQQR4"
      },
      "execution_count": null,
      "outputs": []
    },
    {
      "cell_type": "markdown",
      "source": [
        "Q2.**Write a Python program to read the contents of a file and print each line.**"
      ],
      "metadata": {
        "id": "UWmrRtYUSpbs"
      }
    },
    {
      "cell_type": "code",
      "source": [
        "try:\n",
        "    with open(\"example.txt\", \"r\") as file:\n",
        "        # Read and print each line\n",
        "        for line in file:\n",
        "            print(line.strip())  # Using strip() to remove leading/trailing whitespaces and newline characters\n",
        "except FileNotFoundError:\n",
        "    print(\"The file was not found. Please check the file name and path.\")\n",
        "except IOError:\n",
        "    print(\"An error occurred while trying to read the file.\")"
      ],
      "metadata": {
        "colab": {
          "base_uri": "https://localhost:8080/"
        },
        "id": "GiCUdWF0T7TU",
        "outputId": "02aa8867-fc5c-4213-f662-ae9e97f547b5"
      },
      "execution_count": null,
      "outputs": [
        {
          "output_type": "stream",
          "name": "stdout",
          "text": [
            "Hello, this is a test string!\n"
          ]
        }
      ]
    },
    {
      "cell_type": "markdown",
      "source": [
        "Q3. **How would you handle a case where the file doesn't exist while trying to open it for reading?**"
      ],
      "metadata": {
        "id": "ZZnp60_VUOEw"
      }
    },
    {
      "cell_type": "code",
      "source": [
        "# Attempt to open the file\n",
        "file_name = \"python.txt\"\n",
        "try:\n",
        "    with open(file_name, \"r\") as file:\n",
        "        for line in file:\n",
        "            print(line.strip())\n",
        "except FileNotFoundError:\n",
        "    print(f\"Error: The file '{file_name}' does not exist. Please check the file name and path.\")\n",
        "except IOError:\n",
        "    print(\"An error occurred while trying to read the file.\")"
      ],
      "metadata": {
        "colab": {
          "base_uri": "https://localhost:8080/"
        },
        "id": "b634SKM-VEHP",
        "outputId": "ac68136f-08b8-4db1-aa92-46711c1eb142"
      },
      "execution_count": null,
      "outputs": [
        {
          "output_type": "stream",
          "name": "stdout",
          "text": [
            "Error: The file 'python.txt' does not exist. Please check the file name and path.\n"
          ]
        }
      ]
    },
    {
      "cell_type": "markdown",
      "source": [
        "Q4. **Write a Python script that reads from one file and writes its content to another file.**"
      ],
      "metadata": {
        "id": "p-BvD1QcV3zv"
      }
    },
    {
      "cell_type": "code",
      "source": [
        "#For Example:-\n",
        "input_file = \"input.txt\"  #we can Replace with the actual input file name\n",
        "output_file = \"output.txt\"  #we can Replace with the desired output file name\n",
        "\n",
        "try:\n",
        "    with open(input_file, \"r\") as infile, open(output_file, \"w\") as outfile:\n",
        "        for line in infile:\n",
        "            outfile.write(line)\n",
        "    print(f\"Content successfully copied from '{input_file}' to '{output_file}'\")\n",
        "except FileNotFoundError:\n",
        "    print(f\"Error: Input file '{input_file}' not found.\")\n",
        "except Exception as e:\n",
        "    print(f\"An error occurred: {e}\")"
      ],
      "metadata": {
        "colab": {
          "base_uri": "https://localhost:8080/"
        },
        "id": "y3O8wl_cZhtJ",
        "outputId": "88bdf028-1bad-4b10-ce68-2154879f4c84"
      },
      "execution_count": null,
      "outputs": [
        {
          "output_type": "stream",
          "name": "stdout",
          "text": [
            "Error: Input file 'input.txt' not found.\n"
          ]
        }
      ]
    },
    {
      "cell_type": "markdown",
      "source": [
        "Q5. **How would you catch and handle division by zero error in Python?**"
      ],
      "metadata": {
        "id": "8U1x6SeUaIIY"
      }
    },
    {
      "cell_type": "code",
      "source": [
        "try:\n",
        "    numerator = 5\n",
        "    denominator = 0\n",
        "    result = numerator / denominator\n",
        "    print(\"Result:\", result)\n",
        "except ZeroDivisionError:\n",
        "    print(\"Error: Division by zero is not allowed.\")"
      ],
      "metadata": {
        "colab": {
          "base_uri": "https://localhost:8080/"
        },
        "id": "PGti2r4ebIKz",
        "outputId": "b462977c-cd94-4869-b911-0a89fdf6963d"
      },
      "execution_count": null,
      "outputs": [
        {
          "output_type": "stream",
          "name": "stdout",
          "text": [
            "Error: Division by zero is not allowed.\n"
          ]
        }
      ]
    },
    {
      "cell_type": "markdown",
      "source": [
        "Q6.**Write a Python program that logs an error message to a log file when a division by zero exception occurs.**"
      ],
      "metadata": {
        "id": "QwWWx2BYb647"
      }
    },
    {
      "cell_type": "code",
      "source": [
        "import logging\n",
        "\n",
        "# Configure logging\n",
        "logging.basicConfig(filename='error.log', level=logging.ERROR,\n",
        "                    format='%(asctime)s - %(levelname)s - %(message)s')\n",
        "\n",
        "def divide_numbers(numerator, denominator):\n",
        "    try:\n",
        "        result = numerator / denominator\n",
        "        return result\n",
        "    except ZeroDivisionError as e:\n",
        "        logging.error(\"Attempted division by zero. Details: %s\", e)\n",
        "        print(\"Error logged to error.log file.\")\n",
        "\n",
        "# Example usage\n",
        "numerator = 10\n",
        "denominator = 0\n",
        "divide_numbers(numerator, denominator)"
      ],
      "metadata": {
        "colab": {
          "base_uri": "https://localhost:8080/"
        },
        "id": "iuMLwH5tb0VV",
        "outputId": "d60157af-3657-48f6-f6f8-967ecaf6b847"
      },
      "execution_count": null,
      "outputs": [
        {
          "output_type": "stream",
          "name": "stderr",
          "text": [
            "ERROR:root:Attempted division by zero. Details: division by zero\n"
          ]
        },
        {
          "output_type": "stream",
          "name": "stdout",
          "text": [
            "Error logged to error.log file.\n"
          ]
        }
      ]
    },
    {
      "cell_type": "markdown",
      "source": [
        "Q7.**How do you log information at different levels (INFO, ERROR, WARNING) in Python using the logging module?**"
      ],
      "metadata": {
        "id": "VBo9XB8ic2n2"
      }
    },
    {
      "cell_type": "code",
      "source": [
        "# prompt: How do we log information at different levels (INFO, ERROR, WARNING) in Python using the logging module?\n",
        "\n",
        "import logging\n",
        "\n",
        "# Configure the logging system\n",
        "logging.basicConfig(level=logging.DEBUG,  # Set the root logger's level\n",
        "                    format='%(asctime)s - %(levelname)s - %(message)s',\n",
        "                    filename='my_app.log',  # Log to a file (optional)\n",
        "                    filemode='w')  # Overwrite the log file each time (optional)\n",
        "\n",
        "# Create a logger (optional, but good practice for larger applications)\n",
        "logger = logging.getLogger(__name__)\n",
        "\n",
        "\n",
        "def my_function():\n",
        "    logger.info(\"This is an informational message.\")  # Log an INFO message\n",
        "    logger.warning(\"This is a warning message.\")  # Log a WARNING message\n",
        "    logger.error(\"This is an error message.\")   # Log an ERROR message\n",
        "    logger.debug(\"This is a debug message.\")  # Log a DEBUG message\n",
        "\n",
        "    try:\n",
        "        result = 10 / 0\n",
        "    except ZeroDivisionError:\n",
        "        logger.exception(\"An exception occurred!\")  # Log an exception with stack trace\n",
        "\n",
        "\n",
        "if __name__ == \"__main__\":\n",
        "    my_function()\n"
      ],
      "metadata": {
        "colab": {
          "base_uri": "https://localhost:8080/"
        },
        "id": "Sis7lGzBcznh",
        "outputId": "b58d1e59-227a-4d3f-a32c-dc9d032e6579"
      },
      "execution_count": null,
      "outputs": [
        {
          "output_type": "stream",
          "name": "stderr",
          "text": [
            "WARNING:__main__:This is a warning message.\n",
            "ERROR:__main__:This is an error message.\n",
            "ERROR:__main__:An exception occurred!\n",
            "Traceback (most recent call last):\n",
            "  File \"<ipython-input-20-8234fa4f0672>\", line 22, in my_function\n",
            "    result = 10 / 0\n",
            "             ~~~^~~\n",
            "ZeroDivisionError: division by zero\n"
          ]
        }
      ]
    },
    {
      "cell_type": "markdown",
      "source": [
        "Q8.**Write a program to handle a file opening error using exception handling.**"
      ],
      "metadata": {
        "id": "ic-GEE74ehG8"
      }
    },
    {
      "cell_type": "code",
      "source": [
        "try:\n",
        "    with open(\"my_file.txt\", \"r\") as file:\n",
        "        contents = file.read()\n",
        "        print(contents)\n",
        "except FileNotFoundError:\n",
        "    print(\"Error: The file 'my_file.txt' was not found.\")\n",
        "except PermissionError:\n",
        "    print(\"Error: You do not have permission to access 'my_file.txt'.\")\n",
        "except Exception as e:  # Catching any other unexpected errors\n",
        "    print(f\"An unexpected error occurred: {e}\")\n"
      ],
      "metadata": {
        "colab": {
          "base_uri": "https://localhost:8080/"
        },
        "id": "ls9lWpj_ecCv",
        "outputId": "4af95290-99b0-4c41-9be9-fd7e87d51572"
      },
      "execution_count": null,
      "outputs": [
        {
          "output_type": "stream",
          "name": "stdout",
          "text": [
            "Error: The file 'my_file.txt' was not found.\n"
          ]
        }
      ]
    },
    {
      "cell_type": "markdown",
      "source": [
        "Q9.**How can you read a file line by line and store its content in a list in Python?**"
      ],
      "metadata": {
        "id": "_PyQPd6cfPG8"
      }
    },
    {
      "cell_type": "code",
      "source": [
        "#first creat a file:-\n",
        "\n",
        "file = open(\"fruit.txt\", \"w\")\n",
        "file.write(\"apple is good\\norange is sweet\\ngrapes is bitter \\n\")\n",
        "file.close()"
      ],
      "metadata": {
        "id": "2jSACCV6vN1E"
      },
      "execution_count": 7,
      "outputs": []
    },
    {
      "cell_type": "code",
      "source": [
        "file_path = \"fruit.txt\"\n",
        "\n",
        "with open(file_path, \"r\") as file:\n",
        "    lines = file.readlines()\n",
        "\n",
        "print(lines)  # Each line is stored as an element in the list"
      ],
      "metadata": {
        "colab": {
          "base_uri": "https://localhost:8080/"
        },
        "id": "LvyH7eZzhPv7",
        "outputId": "23a8755d-9263-4514-aecb-40c537685ba5"
      },
      "execution_count": 46,
      "outputs": [
        {
          "output_type": "stream",
          "name": "stdout",
          "text": [
            "['apple is good\\n', 'orange is sweet\\n', 'grapes is bitter \\n']\n"
          ]
        }
      ]
    },
    {
      "cell_type": "markdown",
      "source": [
        "Q10. **How can you append data to an existing file in Python?**"
      ],
      "metadata": {
        "id": "_G5wOgqh56KE"
      }
    },
    {
      "cell_type": "code",
      "source": [
        "def append_to_file(filename, data):\n",
        "    \"\"\"Appends data to an existing file. Creates the file if it doesn't exist.\n",
        "\n",
        "    Args:\n",
        "        filename: The name of the file to append to.\n",
        "        data: The data to append (string).\n",
        "    \"\"\"\n",
        "    try:\n",
        "        with open(filename, \"a\") as file:  # Open in append mode (\"a\")\n",
        "            file.write(data)\n",
        "    except Exception as e:\n",
        "        print(f\"An error occurred: {e}\")\n"
      ],
      "metadata": {
        "id": "eQU38d6g5q9w"
      },
      "execution_count": 15,
      "outputs": []
    },
    {
      "cell_type": "markdown",
      "source": [
        "Q11.  **Write a Python program that uses a try-except block to handle an error when attempting to access a\n",
        "dictionary key that doesn't exist.**"
      ],
      "metadata": {
        "id": "VuEz5GWZ-9Xt"
      }
    },
    {
      "cell_type": "code",
      "source": [
        "my_dict = {\"a\": 1, \"b\": 2}\n",
        "\n",
        "try:\n",
        "  value = my_dict[\"c\"]\n",
        "  print(value)\n",
        "except KeyError:\n",
        "  print(\"Key 'c' not found in the dictionary.\")\n"
      ],
      "metadata": {
        "colab": {
          "base_uri": "https://localhost:8080/"
        },
        "id": "UwCxl-5b-5UQ",
        "outputId": "cddb56f1-ad2d-4044-9d3f-2b29e184ac09"
      },
      "execution_count": 16,
      "outputs": [
        {
          "output_type": "stream",
          "name": "stdout",
          "text": [
            "Key 'c' not found in the dictionary.\n"
          ]
        }
      ]
    },
    {
      "cell_type": "markdown",
      "source": [
        "Q12.**Write a program that demonstrates using multiple except blocks to handle different types of exceptions.**"
      ],
      "metadata": {
        "id": "PYMFmEKKAo0G"
      }
    },
    {
      "cell_type": "code",
      "source": [
        "def divide_numbers(x, y):\n",
        "    try:\n",
        "        result = x / y\n",
        "        print(\"Result:\", result)\n",
        "    except ZeroDivisionError:\n",
        "        print(\"Error: Division by zero\")\n",
        "    except TypeError:\n",
        "        print(\"Error: Invalid input types\")\n",
        "    except Exception as e:\n",
        "        print(\"An unexpected error occurred:\", e)\n",
        "\n",
        "# Example usage\n",
        "divide_numbers(10, 2)\n",
        "divide_numbers(10, 0)\n",
        "divide_numbers(10, \"a\")\n",
        "divide_numbers(10, [1,2])\n"
      ],
      "metadata": {
        "colab": {
          "base_uri": "https://localhost:8080/"
        },
        "id": "iYeEfNPCAmMK",
        "outputId": "7bcb3f19-030f-422b-81f0-f7404694c221"
      },
      "execution_count": 17,
      "outputs": [
        {
          "output_type": "stream",
          "name": "stdout",
          "text": [
            "Result: 5.0\n",
            "Error: Division by zero\n",
            "Error: Invalid input types\n",
            "Error: Invalid input types\n"
          ]
        }
      ]
    },
    {
      "cell_type": "markdown",
      "source": [
        "Q13.**How would you check if a file exists before attempting to read it in Python?**"
      ],
      "metadata": {
        "id": "VzxyKegDBRBi"
      }
    },
    {
      "cell_type": "code",
      "source": [
        "import os\n",
        "\n",
        "def read_file_if_exists(filename):\n",
        "    if os.path.exists(filename):\n",
        "        try:\n",
        "            with open(filename, 'r') as file:\n",
        "                contents = file.read()\n",
        "                print(contents)\n",
        "        except Exception as e:\n",
        "            print(f\"An error occurred while reading the file: {e}\")\n",
        "    else:\n",
        "        print(f\"The file '{filename}' does not exist.\")\n",
        "\n",
        "# Example usage\n",
        "read_file_if_exists(\"my_file.txt\")  # Replace \"my_file.txt\" with your file\n"
      ],
      "metadata": {
        "colab": {
          "base_uri": "https://localhost:8080/"
        },
        "id": "e_Lesl1-Bzof",
        "outputId": "87f97270-9c8b-4476-b095-98711454c6e5"
      },
      "execution_count": 21,
      "outputs": [
        {
          "output_type": "stream",
          "name": "stdout",
          "text": [
            "The file 'my_file.txt' does not exist.\n"
          ]
        }
      ]
    },
    {
      "cell_type": "markdown",
      "source": [
        "Q14. **Write a program that uses the logging module to log both informational and error messages?**"
      ],
      "metadata": {
        "id": "sJkiIF_dMyvj"
      }
    },
    {
      "cell_type": "code",
      "source": [
        "import logging\n",
        "\n",
        "# Configure logging\n",
        "logging.basicConfig(\n",
        "    level=logging.DEBUG,  # Set the logging level to DEBUG to capture all levels of logs\n",
        "    format=\"%(asctime)s - %(levelname)s - %(message)s\",  # Define the format for log messages\n",
        "    filename=\"application.log\",  # Log messages will be written to this file\n",
        "    filemode=\"w\",  # Overwrite the log file each time the program runs\n",
        ")\n",
        "\n",
        "# Log an informational message\n",
        "logging.info(\"This is an informational message.\")\n",
        "\n",
        "# Log an error message\n",
        "try:\n",
        "    1 / 0  # Intentionally raise a ZeroDivisionError\n",
        "except ZeroDivisionError as e:\n",
        "    logging.error(\"An error occurred: %s\", e)"
      ],
      "metadata": {
        "colab": {
          "base_uri": "https://localhost:8080/"
        },
        "id": "79NVEjAzNFUS",
        "outputId": "6893e2fe-117f-4f5d-e72f-0135bdd081fc"
      },
      "execution_count": 23,
      "outputs": [
        {
          "output_type": "stream",
          "name": "stderr",
          "text": [
            "ERROR:root:An error occurred: division by zero\n"
          ]
        }
      ]
    },
    {
      "cell_type": "markdown",
      "source": [
        "Q15. **Write a Python program that prints the content of a file and handles the case when the file is empty.**"
      ],
      "metadata": {
        "id": "7b_Y-zz1N7XJ"
      }
    },
    {
      "cell_type": "code",
      "source": [
        "def print_file_content(f):\n",
        "    try:\n",
        "        with open(f, 'r') as file:\n",
        "            content = file.read()\n",
        "            if content:  # Check if the file is not empty\n",
        "                print(\"File Content:\")\n",
        "                print(content)\n",
        "            else:\n",
        "                print(\"The file is empty.\")\n",
        "    except FileNotFoundError:\n",
        "        print(f\"Error: The file '{f}' does not exist.\")\n",
        "    except Exception as e:\n",
        "        print(f\"An unexpected error occurred: {e}\")\n",
        "\n",
        "# Specify the file name\n",
        "f = \"example.txt\"\n",
        "\n",
        "# Call the function\n",
        "print_file_content(f)"
      ],
      "metadata": {
        "colab": {
          "base_uri": "https://localhost:8080/"
        },
        "id": "LVYGBOSsNrSc",
        "outputId": "deb2beb9-a92e-4859-f712-dfc8352ebf9b"
      },
      "execution_count": 24,
      "outputs": [
        {
          "output_type": "stream",
          "name": "stdout",
          "text": [
            "File Content:\n",
            "Line 1\n",
            "Line 2\n",
            "Line 3\n",
            "\n"
          ]
        }
      ]
    },
    {
      "cell_type": "markdown",
      "source": [
        "Q16. **Demonstrate how to use memory profiling to check the memory usage of a small program.**"
      ],
      "metadata": {
        "id": "kcVnsljmO8FR"
      }
    },
    {
      "cell_type": "code",
      "source": [
        "# Import memory profiler\n",
        "from memory_profiler import profile\n",
        "\n",
        "@profile  # This decorator enables line-by-line memory profiling\n",
        "def create_large_list():\n",
        "    # Create a large list and observe memory usage\n",
        "    large_list = [i for i in range(100000)]\n",
        "    return sum(large_list)\n",
        "\n",
        "if __name__ == \"__main__\":\n",
        "    create_large_list()"
      ],
      "metadata": {
        "colab": {
          "base_uri": "https://localhost:8080/"
        },
        "id": "fthlqqBVRhAl",
        "outputId": "f5854a98-ff76-4340-a098-67c7da4047b6"
      },
      "execution_count": 37,
      "outputs": [
        {
          "output_type": "stream",
          "name": "stdout",
          "text": [
            "ERROR: Could not find file <ipython-input-37-2eba8f3700f7>\n",
            "NOTE: %mprun can only be used on functions defined in physical files, and not in the IPython environment.\n"
          ]
        }
      ]
    },
    {
      "cell_type": "markdown",
      "source": [
        "Q17. **Write a Python program to create and write a list of numbers to a file, one number per line.**"
      ],
      "metadata": {
        "id": "uECskNxoR9tP"
      }
    },
    {
      "cell_type": "code",
      "source": [
        "def write_numbers_to_file(numbers, filename):\n",
        "    try:\n",
        "        with open(filename, 'w') as file:\n",
        "            for number in numbers:\n",
        "                file.write(str(number) + '\\n')\n",
        "        print(f\"Numbers successfully written to '{filename}'\")\n",
        "    except Exception as e:\n",
        "        print(f\"An error occurred: {e}\")\n",
        "\n",
        "# Example usage\n",
        "numbers = [1, 2, 3, 4, 5, 6, 7, 8, 9, 10]\n",
        "filename = \"numbers.txt\"\n",
        "write_numbers_to_file(numbers, filename)\n"
      ],
      "metadata": {
        "colab": {
          "base_uri": "https://localhost:8080/"
        },
        "id": "uTG-wdOmSFS7",
        "outputId": "050c9679-966f-44cb-fa56-d910003d3737"
      },
      "execution_count": 35,
      "outputs": [
        {
          "output_type": "stream",
          "name": "stdout",
          "text": [
            "Numbers successfully written to 'numbers.txt'\n"
          ]
        }
      ]
    },
    {
      "cell_type": "markdown",
      "source": [
        "Q.18 **How would you implement a basic logging setup that logs to a file with rotation after 1MB.**"
      ],
      "metadata": {
        "id": "65eqmuXZcI93"
      }
    },
    {
      "cell_type": "code",
      "source": [
        "import logging\n",
        "from logging.handlers import RotatingFileHandler\n",
        "\n",
        "# Define the logger\n",
        "logger = logging.getLogger(\"MyLogger\")\n",
        "logger.setLevel(logging.INFO)\n",
        "\n",
        "# Set up handler for logging to a file with rotation\n",
        "handler = RotatingFileHandler(\"app.log\", maxBytes=1_048_576, backupCount=3)  # 1MB limit, keep 3 backups\n",
        "formatter = logging.Formatter(\"%(asctime)s - %(levelname)s - %(message)s\")\n",
        "handler.setFormatter(formatter)\n",
        "logger.addHandler(handler)\n",
        "\n",
        "# Example log messages\n",
        "logger.info(\"Application started\")\n",
        "logger.warning(\"This is a warning message\")\n",
        "logger.error(\"Something went wrong!\")"
      ],
      "metadata": {
        "colab": {
          "base_uri": "https://localhost:8080/"
        },
        "id": "FUKVJJUUccfa",
        "outputId": "df5f601d-c374-4633-8281-a8956d197403"
      },
      "execution_count": 39,
      "outputs": [
        {
          "output_type": "stream",
          "name": "stderr",
          "text": [
            "INFO:MyLogger:Application started\n",
            "WARNING:MyLogger:This is a warning message\n",
            "ERROR:MyLogger:Something went wrong!\n"
          ]
        }
      ]
    },
    {
      "cell_type": "markdown",
      "source": [
        "Q19.  **Write a program that handles both IndexError and KeyError using a try-except block.**"
      ],
      "metadata": {
        "id": "RbWVd11yc5-1"
      }
    },
    {
      "cell_type": "code",
      "source": [
        "def handle_exceptions():\n",
        "    list = [1, 2, 3]\n",
        "    dict = {\"a\": 10, \"b\": 20}\n",
        "\n",
        "    try:\n",
        "        # Attempt to access an index that may not exist\n",
        "        print(list[5])  # IndexError\n",
        "\n",
        "        # Attempt to access a key that may not exist\n",
        "        print(dict[\"z\"])  # KeyError\n",
        "\n",
        "    except IndexError:\n",
        "        print(\"Caught an IndexError! The list index is out of range.\")\n",
        "\n",
        "    except KeyError:\n",
        "        print(\"Caught a KeyError! The dictionary key does not exist.\")\n",
        "\n",
        "handle_exceptions()"
      ],
      "metadata": {
        "colab": {
          "base_uri": "https://localhost:8080/"
        },
        "id": "feGgfPmecrpC",
        "outputId": "08ce9f69-25f4-452e-ae7a-108034140f0a"
      },
      "execution_count": 40,
      "outputs": [
        {
          "output_type": "stream",
          "name": "stdout",
          "text": [
            "Caught an IndexError! The list index is out of range.\n"
          ]
        }
      ]
    },
    {
      "cell_type": "markdown",
      "source": [
        "Q20.**would you open a file and read its contents using a context manager in Python?**"
      ],
      "metadata": {
        "id": "yOkNMmEWeKdK"
      }
    },
    {
      "cell_type": "code",
      "source": [
        "# Using a context manager to read a file\n",
        "with open(\"example.txt\", \"r\") as file:\n",
        "    contents = file.read()\n",
        "\n",
        "print(contents)  # Display the file contents"
      ],
      "metadata": {
        "colab": {
          "base_uri": "https://localhost:8080/"
        },
        "id": "i6HN1J7CeF-g",
        "outputId": "ef9f20f9-54df-424f-f143-c39f9e1ba1a5"
      },
      "execution_count": 41,
      "outputs": [
        {
          "output_type": "stream",
          "name": "stdout",
          "text": [
            "Line 1\n",
            "Line 2\n",
            "Line 3\n",
            "\n"
          ]
        }
      ]
    },
    {
      "cell_type": "markdown",
      "source": [
        "Q21.  **Write a Python program that reads a file and prints the number of occurrences of a specific word.**"
      ],
      "metadata": {
        "id": "OM_YOtHmet-s"
      }
    },
    {
      "cell_type": "code",
      "source": [
        "def count_word_occurrences(file_path, target_word):\n",
        "    \"\"\"Counts occurrences of a word in a given file.\"\"\"\n",
        "    count = 0\n",
        "    target_word = target_word.lower()  # Normalize word case for comparison\n",
        "\n",
        "    try:\n",
        "        with open(file_path, \"r\", encoding=\"utf-8\") as file:\n",
        "            for line in file:\n",
        "                words = line.lower().split()  # Convert to lowercase and split into words\n",
        "                count += words.count(target_word)  # Count occurrences in the current line\n",
        "\n",
        "        print(f\"The word '{target_word}' appears {count} times in '{file_path}'.\")\n",
        "\n",
        "    except FileNotFoundError:\n",
        "        print(f\"Error: The file '{file_path}' was not found.\")\n",
        "    except Exception as e:\n",
        "        print(f\"An error occurred: {e}\")\n",
        "\n",
        "# Example usage\n",
        "file_name = \"example.txt\"\n",
        "word_to_find = \"Manish\"\n",
        "count_word_occurrences(file_name, word_to_find)"
      ],
      "metadata": {
        "colab": {
          "base_uri": "https://localhost:8080/"
        },
        "id": "_vtM2X5_eols",
        "outputId": "09f3269d-6e37-49f6-cf14-dba432977abe"
      },
      "execution_count": 42,
      "outputs": [
        {
          "output_type": "stream",
          "name": "stdout",
          "text": [
            "The word 'manish' appears 0 times in 'example.txt'.\n"
          ]
        }
      ]
    },
    {
      "cell_type": "markdown",
      "source": [
        "Q22. **how can you check if a file is empty before attempting to read its contents?**"
      ],
      "metadata": {
        "id": "uX7-x8KPfqSH"
      }
    },
    {
      "cell_type": "code",
      "source": [
        "import os\n",
        "\n",
        "file_path = \"example.txt\"\n",
        "if os.path.exists(file_path) and os.path.getsize(file_path) == 0:\n",
        "    print(\"The file is empty.\")\n",
        "else:\n",
        "    print(\"The file is not empty.\")"
      ],
      "metadata": {
        "colab": {
          "base_uri": "https://localhost:8080/"
        },
        "id": "sXKDHocVfd1X",
        "outputId": "9ec5a97c-73dc-4154-beaa-709b7055846a"
      },
      "execution_count": 43,
      "outputs": [
        {
          "output_type": "stream",
          "name": "stdout",
          "text": [
            "The file is not empty.\n"
          ]
        }
      ]
    },
    {
      "cell_type": "markdown",
      "source": [
        "Q23. **Write a Python program that writes to a log file when an error occurs during file handling.**"
      ],
      "metadata": {
        "id": "Dh00rodhgSDP"
      }
    },
    {
      "cell_type": "code",
      "source": [
        "import logging\n",
        "\n",
        "# Configure logging to write errors to a file\n",
        "logging.basicConfig(filename=\"error_log.txt\", level=logging.ERROR,\n",
        "                    format=\"%(asctime)s - %(levelname)s - %(message)s\")\n",
        "\n",
        "def read_file(file_path):\n",
        "    try:\n",
        "        with open(file_path, \"r\") as file:\n",
        "            content = file.read()\n",
        "            print(\"File content:\\n\", content)\n",
        "    except Exception as e:\n",
        "        logging.error(f\"Error while handling file: {e}\")\n",
        "        print(\"An error occurred. Check the error_log.txt file for details.\")\n",
        "\n",
        "# Example usage\n",
        "file_path = \"non_existent_file.txt\"  # A file that does not exist\n",
        "read_file(file_path)"
      ],
      "metadata": {
        "colab": {
          "base_uri": "https://localhost:8080/"
        },
        "id": "C-6IB2TcgOb7",
        "outputId": "59a67f9f-f48b-47d9-c0a4-46d837189838"
      },
      "execution_count": 44,
      "outputs": [
        {
          "output_type": "stream",
          "name": "stderr",
          "text": [
            "ERROR:root:Error while handling file: [Errno 2] No such file or directory: 'non_existent_file.txt'\n"
          ]
        },
        {
          "output_type": "stream",
          "name": "stdout",
          "text": [
            "An error occurred. Check the error_log.txt file for details.\n"
          ]
        }
      ]
    },
    {
      "cell_type": "code",
      "source": [],
      "metadata": {
        "id": "EJccPAsJgleK"
      },
      "execution_count": null,
      "outputs": []
    }
  ]
}